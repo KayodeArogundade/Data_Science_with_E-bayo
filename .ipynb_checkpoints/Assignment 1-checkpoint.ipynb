{
 "cells": [
  {
   "cell_type": "markdown",
   "metadata": {},
   "source": [
    "### **Assignmet1**"
   ]
  },
  {
   "cell_type": "markdown",
   "metadata": {},
   "source": [
    "## Kayode Arogundade writing a python script for solving a quadratic equation"
   ]
  },
  {
   "cell_type": "code",
   "execution_count": 6,
   "metadata": {
    "scrolled": true
   },
   "outputs": [
    {
     "name": "stdout",
     "output_type": "stream",
     "text": [
      "(a*x^2)+(b*x)+c\n",
      "(-7+4.9749371855331j)\n",
      "(-7-4.9749371855331j)\n"
     ]
    }
   ],
   "source": [
    "print(\"(a*x^2)+(b*x)+c\")\n",
    "# this what a quadratic equation looks like\n",
    "a = 3\n",
    "b = 7\n",
    "c = 5\n",
    "\n",
    "r = b**2 - 4*a*c\n",
    "\n",
    "number_of_roots = 2 \n",
    "# roots of x = x1, and x2\n",
    "\n",
    "x1 = (-b + ((b**2-(4*a*c))**0.5)/2*a)\n",
    "x2 = (-b - ((b**2-(4*a*c))**0.5)/2*a)\n",
    "\n",
    "\n",
    "print (x1)\n",
    "print (x2)"
   ]
  },
  {
   "cell_type": "code",
   "execution_count": 1,
   "metadata": {},
   "outputs": [
    {
     "name": "stdout",
     "output_type": "stream",
     "text": [
      "8.0\n"
     ]
    }
   ],
   "source": [
    "print (64 ** 0.5)"
   ]
  },
  {
   "cell_type": "markdown",
   "metadata": {},
   "source": [
    "### Instructor's Comment\n",
    "> Semantic Error"
   ]
  },
  {
   "cell_type": "code",
   "execution_count": null,
   "metadata": {},
   "outputs": [],
   "source": [
    "# There exist no bug in the code though, but the assignment was not properly answered\n",
    "\n",
    "#****************1************************\n",
    "# values are supposed to be input values\n",
    "# e.g \n",
    "a = input(\"Enter the coefficient of x\")\n",
    "\n",
    "# ****************2********************\n",
    "# values are expected to be cast to a float \n",
    "# e.g\n",
    "a_float = float(a)\n",
    "\n",
    "# ****************3********************\n",
    "#Code was not properly structured"
   ]
  }
 ],
 "metadata": {
  "kernelspec": {
   "display_name": "Python 3",
   "language": "python",
   "name": "python3"
  },
  "language_info": {
   "codemirror_mode": {
    "name": "ipython",
    "version": 3
   },
   "file_extension": ".py",
   "mimetype": "text/x-python",
   "name": "python",
   "nbconvert_exporter": "python",
   "pygments_lexer": "ipython3",
   "version": "3.8.3"
  }
 },
 "nbformat": 4,
 "nbformat_minor": 4
}
